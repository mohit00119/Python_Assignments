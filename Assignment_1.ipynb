{
 "cells": [
  {
   "cell_type": "markdown",
   "id": "f9c815ed-f9ef-4815-90be-683305f934c1",
   "metadata": {},
   "source": [
    "�\n",
    "�\n",
    " Section A: Data Types & Control Flow (Q1–Q15) "
   ]
  },
  {
   "cell_type": "markdown",
   "id": "a8c5d800-17f5-485e-8eba-536c8907dabc",
   "metadata": {},
   "source": [
    "1. Write a Python program to find the second largest number in \n",
    "a list without using the sort() method. "
   ]
  },
  {
   "cell_type": "code",
   "execution_count": null,
   "id": "9c22845d-c0ae-4f54-b16a-4828839904c7",
   "metadata": {},
   "outputs": [],
   "source": [
    "input_str = input(\"Enter numbers separated by spaces: \")\n",
    "nums = list(map(int, input_str.split()))\n",
    "if len(nums) < 2:\n",
    "    print(\"The list doesn't have enough elements.\")\n",
    "else:\n",
    "    largest = second_largest = float('-inf')\n",
    "    for num in nums:\n",
    "        if num > largest:\n",
    "            second_largest = largest\n",
    "            largest = num\n",
    "        elif largest > num > second_largest:\n",
    "            second_largest = num\n",
    "\n",
    "    if second_largest == float('-inf'):\n",
    "        print(\"There is no second distinct largest number.\")\n",
    "    else:\n",
    "        print(\"Second largest number is:\", second_largest)"
   ]
  },
  {
   "cell_type": "markdown",
   "id": "45f58ec9-69ac-4633-9789-34869cdbd1bd",
   "metadata": {},
   "source": [
    "2. Remove duplicates from a list without using set() and \n",
    "return it in sorted order. "
   ]
  },
  {
   "cell_type": "code",
   "execution_count": null,
   "id": "0b1ee3b3-4d80-41cb-a76d-2eab788a8114",
   "metadata": {},
   "outputs": [],
   "source": [
    "input_list = list(map(int, input(\"Enter numbers separated by spaces: \").split()))\n",
    "unique_list = []\n",
    "for num in input_list:\n",
    "    if num not in unique_list:\n",
    "        unique_list.append(num)\n",
    "for i in range(len(unique_list)):\n",
    "    for j in range(i + 1, len(unique_list)):\n",
    "        if unique_list[i] > unique_list[j]:\n",
    "            unique_list[i], unique_list[j] = unique_list[j], unique_list[i]\n",
    "print(\"Sorted list without duplicates:\", unique_list)"
   ]
  },
  {
   "cell_type": "markdown",
   "id": "427bfa71-2a84-4504-979c-9629e9c83439",
   "metadata": {},
   "source": [
    "3. Find the sum and average of a list of numbers. "
   ]
  },
  {
   "cell_type": "code",
   "execution_count": null,
   "id": "0fdbb099-fe60-43ec-a9b2-bfc5ee0c84b3",
   "metadata": {},
   "outputs": [],
   "source": [
    "numbers = list(map(float, input(\"Enter numbers separated by spaces: \").split()))\n",
    "if len(numbers) == 0:\n",
    "    print(\"No numbers entered.\")\n",
    "else:\n",
    "    total = 0\n",
    "    for num in numbers:\n",
    "        total += num\n",
    "    average = total / len(numbers)\n",
    "    print(\"Sum:\", total)\n",
    "    print(\"Average:\", average)"
   ]
  }
 ],
 "metadata": {
  "kernelspec": {
   "display_name": "Python 3 (ipykernel)",
   "language": "python",
   "name": "python3"
  },
  "language_info": {
   "codemirror_mode": {
    "name": "ipython",
    "version": 3
   },
   "file_extension": ".py",
   "mimetype": "text/x-python",
   "name": "python",
   "nbconvert_exporter": "python",
   "pygments_lexer": "ipython3",
   "version": "3.12.7"
  }
 },
 "nbformat": 4,
 "nbformat_minor": 5
}
