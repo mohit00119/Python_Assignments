{
 "cells": [
  {
   "cell_type": "markdown",
   "id": "f9c815ed-f9ef-4815-90be-683305f934c1",
   "metadata": {},
   "source": [
    "�\n",
    "�\n",
    " Section A: Data Types & Control Flow (Q1–Q15) "
   ]
  },
  {
   "cell_type": "markdown",
   "id": "a8c5d800-17f5-485e-8eba-536c8907dabc",
   "metadata": {},
   "source": [
    "1. Write a Python program to find the second largest number in \n",
    "a list without using the sort() method. "
   ]
  },
  {
   "cell_type": "code",
   "execution_count": 5,
   "id": "9c22845d-c0ae-4f54-b16a-4828839904c7",
   "metadata": {},
   "outputs": [
    {
     "name": "stdin",
     "output_type": "stream",
     "text": [
      "Enter numbers separated by spaces:  12 23 5 424 56 58\n"
     ]
    },
    {
     "name": "stdout",
     "output_type": "stream",
     "text": [
      "Second largest number is: 58\n"
     ]
    }
   ],
   "source": [
    "input_str = input(\"Enter numbers separated by spaces: \")\n",
    "nums = list(map(int, input_str.split()))\n",
    "if len(nums) < 2:\n",
    "    print(\"The list doesn't have enough elements.\")\n",
    "else:\n",
    "    largest = second_largest = float('-inf')\n",
    "    for num in nums:\n",
    "        if num > largest:\n",
    "            second_largest = largest\n",
    "            largest = num\n",
    "        elif largest > num > second_largest:\n",
    "            second_largest = num\n",
    "\n",
    "    if second_largest == float('-inf'):\n",
    "        print(\"There is no second distinct largest number.\")\n",
    "    else:\n",
    "        print(\"Second largest number is:\", second_largest)"
   ]
  },
  {
   "cell_type": "markdown",
   "id": "45f58ec9-69ac-4633-9789-34869cdbd1bd",
   "metadata": {},
   "source": [
    "2. Remove duplicates from a list without using set() and \n",
    "return it in sorted order. "
   ]
  },
  {
   "cell_type": "code",
   "execution_count": 6,
   "id": "0b1ee3b3-4d80-41cb-a76d-2eab788a8114",
   "metadata": {},
   "outputs": [
    {
     "name": "stdin",
     "output_type": "stream",
     "text": [
      "Enter numbers separated by spaces:  1 2 4 5 3 6 9 \n"
     ]
    },
    {
     "name": "stdout",
     "output_type": "stream",
     "text": [
      "Sorted list without duplicates: [1, 2, 3, 4, 5, 6, 9]\n"
     ]
    }
   ],
   "source": [
    "input_list = list(map(int, input(\"Enter numbers separated by spaces: \").split()))\n",
    "unique_list = []\n",
    "for num in input_list:\n",
    "    if num not in unique_list:\n",
    "        unique_list.append(num)\n",
    "for i in range(len(unique_list)):\n",
    "    for j in range(i + 1, len(unique_list)):\n",
    "        if unique_list[i] > unique_list[j]:\n",
    "            unique_list[i], unique_list[j] = unique_list[j], unique_list[i]\n",
    "print(\"Sorted list without duplicates:\", unique_list)"
   ]
  },
  {
   "cell_type": "markdown",
   "id": "427bfa71-2a84-4504-979c-9629e9c83439",
   "metadata": {},
   "source": [
    "3. Find the sum and average of a list of numbers. "
   ]
  },
  {
   "cell_type": "code",
   "execution_count": 7,
   "id": "0fdbb099-fe60-43ec-a9b2-bfc5ee0c84b3",
   "metadata": {},
   "outputs": [
    {
     "name": "stdin",
     "output_type": "stream",
     "text": [
      "Enter numbers separated by spaces:  1 21 32 54 42 \n"
     ]
    },
    {
     "name": "stdout",
     "output_type": "stream",
     "text": [
      "Sum: 150.0\n",
      "Average: 30.0\n"
     ]
    }
   ],
   "source": [
    "numbers = list(map(float, input(\"Enter numbers separated by spaces: \").split()))\n",
    "if len(numbers) == 0:\n",
    "    print(\"No numbers entered.\")\n",
    "else:\n",
    "    total = 0\n",
    "    for num in numbers:\n",
    "        total += num\n",
    "    average = total / len(numbers)\n",
    "    print(\"Sum:\", total)\n",
    "    print(\"Average:\", average)"
   ]
  },
  {
   "cell_type": "markdown",
   "id": "b1d78aa2-8fb7-447e-905e-392f5e6c67dc",
   "metadata": {},
   "source": [
    "4. Create a program to check if a number is prime. "
   ]
  },
  {
   "cell_type": "code",
   "execution_count": 8,
   "id": "bbf45039-f907-4384-8b0b-d2cccdac3222",
   "metadata": {},
   "outputs": [
    {
     "name": "stdin",
     "output_type": "stream",
     "text": [
      "Enter a number:  1\n"
     ]
    },
    {
     "name": "stdout",
     "output_type": "stream",
     "text": [
      "1 is not a prime number.\n"
     ]
    }
   ],
   "source": [
    "num = int(input(\"Enter a number: \"))\n",
    "if num <= 1:\n",
    "    print(num, \"is not a prime number.\")\n",
    "else:\n",
    "    is_prime = True\n",
    "    for i in range(2, int(num**0.5) + 1):\n",
    "        if num % i == 0:\n",
    "            is_prime = False\n",
    "            break\n",
    "    if is_prime:\n",
    "        print(num, \"is a prime number.\")\n",
    "    else:\n",
    "        print(num, \"is not a prime number.\")"
   ]
  },
  {
   "cell_type": "markdown",
   "id": "728b3f17-b073-4301-acfe-f09420303201",
   "metadata": {},
   "source": [
    "5. Count the number of vowels, consonants, digits, and special \n",
    "characters in a given string."
   ]
  },
  {
   "cell_type": "code",
   "execution_count": 9,
   "id": "4ec10acc-189e-43a9-902e-a45fabf116f7",
   "metadata": {},
   "outputs": [
    {
     "name": "stdin",
     "output_type": "stream",
     "text": [
      "Enter a string:  2 3 5 67 5 \n"
     ]
    },
    {
     "name": "stdout",
     "output_type": "stream",
     "text": [
      "Vowels: 0\n",
      "Consonants: 0\n",
      "Digits: 6\n",
      "Special characters: 0\n"
     ]
    }
   ],
   "source": [
    "text = input(\"Enter a string: \")\n",
    "vowels = consonants = digits = special_chars = 0\n",
    "for char in text:\n",
    "    if char.isalpha():\n",
    "        if char.lower() in 'aeiou':\n",
    "            vowels += 1\n",
    "        else:\n",
    "            consonants += 1\n",
    "    elif char.isdigit():\n",
    "        digits += 1\n",
    "    elif not char.isspace():\n",
    "        special_chars += 1\n",
    "print(\"Vowels:\", vowels)\n",
    "print(\"Consonants:\", consonants)\n",
    "print(\"Digits:\", digits)\n",
    "print(\"Special characters:\", special_chars)"
   ]
  },
  {
   "cell_type": "markdown",
   "id": "ead189d4-2691-45bb-b68f-dd74ef52bde6",
   "metadata": {},
   "source": [
    "6. Print all even numbers between 1 and 100 using a for loop"
   ]
  },
  {
   "cell_type": "code",
   "execution_count": 10,
   "id": "a2d3ed33-d5ae-4dff-8dbe-d941ede40762",
   "metadata": {},
   "outputs": [
    {
     "name": "stdout",
     "output_type": "stream",
     "text": [
      "2 4 6 8 10 12 14 16 18 20 22 24 26 28 30 32 34 36 38 40 42 44 46 48 50 52 54 56 58 60 62 64 66 68 70 72 74 76 78 80 82 84 86 88 90 92 94 96 98 100 "
     ]
    }
   ],
   "source": [
    "for number in range(2, 101, 2):\n",
    "    print(number, end=' ')"
   ]
  },
  {
   "cell_type": "markdown",
   "id": "02f4d414-98d4-470f-8bed-23c1cdcf782f",
   "metadata": {},
   "source": [
    "7. Write a program to print the multiplication table of a number \n",
    "entered by the user."
   ]
  },
  {
   "cell_type": "code",
   "execution_count": 11,
   "id": "050c0b77-065e-4534-812b-e6a3b68ef42a",
   "metadata": {},
   "outputs": [
    {
     "name": "stdin",
     "output_type": "stream",
     "text": [
      "Enter a number:  34\n"
     ]
    },
    {
     "name": "stdout",
     "output_type": "stream",
     "text": [
      "34 x 1 = 34\n",
      "34 x 2 = 68\n",
      "34 x 3 = 102\n",
      "34 x 4 = 136\n",
      "34 x 5 = 170\n",
      "34 x 6 = 204\n",
      "34 x 7 = 238\n",
      "34 x 8 = 272\n",
      "34 x 9 = 306\n",
      "34 x 10 = 340\n"
     ]
    }
   ],
   "source": [
    "number = int(input(\"Enter a number: \"))\n",
    "\n",
    "for i in range(1, 11):\n",
    "    print(f\"{number} x {i} = {number * i}\")"
   ]
  },
  {
   "cell_type": "markdown",
   "id": "a8e6a212-2119-48c5-87b6-bec4afda75ed",
   "metadata": {},
   "source": [
    "8. Create a list of numbers from 1 to 100 that are divisible by \n",
    "both 3 and 5."
   ]
  },
  {
   "cell_type": "code",
   "execution_count": 12,
   "id": "395b2f6c-d033-42b9-af89-12f4948230b7",
   "metadata": {},
   "outputs": [
    {
     "name": "stdout",
     "output_type": "stream",
     "text": [
      "Numbers divisible by both 3 and 5: [15, 30, 45, 60, 75, 90]\n"
     ]
    }
   ],
   "source": [
    "divisible_by_3_and_5 = []\n",
    "\n",
    "for number in range(1, 101):\n",
    "    if number % 3 == 0 and number % 5 == 0:\n",
    "        divisible_by_3_and_5.append(number)\n",
    "\n",
    "print(\"Numbers divisible by both 3 and 5:\", divisible_by_3_and_5)"
   ]
  },
  {
   "cell_type": "markdown",
   "id": "9681e722-d6e8-4f24-9675-30e6cb16c7e7",
   "metadata": {},
   "source": [
    "9. Take a number input and print its reverse."
   ]
  },
  {
   "cell_type": "code",
   "execution_count": 13,
   "id": "68a21f86-0cb7-489d-99c6-c1e77e35eb0d",
   "metadata": {},
   "outputs": [
    {
     "name": "stdin",
     "output_type": "stream",
     "text": [
      "Enter a number:  12\n"
     ]
    },
    {
     "name": "stdout",
     "output_type": "stream",
     "text": [
      "Reversed number: 21\n"
     ]
    }
   ],
   "source": [
    "number = input(\"Enter a number: \")\n",
    "reverse = number[::-1]\n",
    "print(\"Reversed number:\", reverse)"
   ]
  },
  {
   "cell_type": "markdown",
   "id": "c5465f99-e9dc-4d08-abf2-30b6424f9757",
   "metadata": {},
   "source": [
    "10. Count the frequency of each character in a string and \n",
    "store it in a dictionary. \n"
   ]
  },
  {
   "cell_type": "code",
   "execution_count": 14,
   "id": "1143de59-a941-4fc0-8050-f7f14a1622f1",
   "metadata": {},
   "outputs": [
    {
     "name": "stdin",
     "output_type": "stream",
     "text": [
      "Enter a string:  12w\n"
     ]
    },
    {
     "name": "stdout",
     "output_type": "stream",
     "text": [
      "Character frequencies: {'1': 1, '2': 1, 'w': 1}\n"
     ]
    }
   ],
   "source": [
    "text = input(\"Enter a string: \")\n",
    "frequency = {}\n",
    "for char in text:\n",
    "    if char in frequency:\n",
    "        frequency[char] += 1\n",
    "    else:\n",
    "        frequency[char] = 1\n",
    "print(\"Character frequencies:\", frequency)"
   ]
  },
  {
   "cell_type": "markdown",
   "id": "9906938c-9d35-4f50-9e3e-aa877c7548d0",
   "metadata": {},
   "source": [
    "11. Write a Python program to generate the first n prime \n",
    "numbers."
   ]
  },
  {
   "cell_type": "code",
   "execution_count": 15,
   "id": "ad41ec28-d17f-4951-8c71-9d0b03f04e06",
   "metadata": {},
   "outputs": [
    {
     "name": "stdin",
     "output_type": "stream",
     "text": [
      "Enter the number of prime numbers to generate:  56\n"
     ]
    },
    {
     "name": "stdout",
     "output_type": "stream",
     "text": [
      "2 3 5 7 11 13 17 19 23 29 31 37 41 43 47 53 59 61 67 71 73 79 83 89 97 101 103 107 109 113 127 131 137 139 149 151 157 163 167 173 179 181 191 193 197 199 211 223 227 229 233 239 241 251 257 263 "
     ]
    }
   ],
   "source": [
    "n = int(input(\"Enter the number of prime numbers to generate: \"))\n",
    "count = 0\n",
    "num = 2\n",
    "while count < n:\n",
    "    is_prime = True\n",
    "    for i in range(2, int(num**0.5) + 1):\n",
    "        if num % i == 0:\n",
    "            is_prime = False\n",
    "            break\n",
    "    if is_prime:\n",
    "        print(num, end=' ')\n",
    "        count += 1\n",
    "    num += 1"
   ]
  },
  {
   "cell_type": "markdown",
   "id": "287e671e-d748-4cac-900c-862847f10b12",
   "metadata": {},
   "source": [
    "12. Check whether a number is a palindrome or not. \n"
   ]
  },
  {
   "cell_type": "code",
   "execution_count": 16,
   "id": "3c4792ea-81a9-4b80-84cc-470d1033a0a2",
   "metadata": {},
   "outputs": [
    {
     "name": "stdin",
     "output_type": "stream",
     "text": [
      "Enter a number:  12\n"
     ]
    },
    {
     "name": "stdout",
     "output_type": "stream",
     "text": [
      "12 is not a palindrome.\n"
     ]
    }
   ],
   "source": [
    "number = input(\"Enter a number: \")\n",
    "if number == number[::-1]:\n",
    "    print(number, \"is a palindrome.\")\n",
    "else:\n",
    "    print(number, \"is not a palindrome.\")"
   ]
  },
  {
   "cell_type": "markdown",
   "id": "b6a7cb1e-8fed-40b4-807e-741885548969",
   "metadata": {},
   "source": [
    "13. Count how many times a specific element appears in a \n",
    "list. "
   ]
  },
  {
   "cell_type": "code",
   "execution_count": 17,
   "id": "98e0ae22-282b-44ec-aeca-05cc3ec53345",
   "metadata": {},
   "outputs": [
    {
     "name": "stdin",
     "output_type": "stream",
     "text": [
      "Enter list elements separated by spaces:  12 1 15 8 56 \n",
      "Enter the element to count:  1 2 6 \n"
     ]
    },
    {
     "name": "stdout",
     "output_type": "stream",
     "text": [
      "The element '1 2 6 ' appears 0 times in the list.\n"
     ]
    }
   ],
   "source": [
    "elements = input(\"Enter list elements separated by spaces: \").split()\n",
    "target = input(\"Enter the element to count: \")\n",
    "count = 0\n",
    "for item in elements:\n",
    "    if item == target:\n",
    "        count += 1\n",
    "print(f\"The element '{target}' appears {count} times in the list.\")"
   ]
  },
  {
   "cell_type": "markdown",
   "id": "28051a68-e501-4ac9-9dda-4a26102ab7c8",
   "metadata": {},
   "source": [
    "14. Create a list of squares of even numbers between 1 and 50."
   ]
  },
  {
   "cell_type": "code",
   "execution_count": 18,
   "id": "2c4d90d2-461f-4655-8f36-83eb8a9a5827",
   "metadata": {},
   "outputs": [
    {
     "name": "stdout",
     "output_type": "stream",
     "text": [
      "Squares of even numbers between 1 and 50: [4, 16, 36, 64, 100, 144, 196, 256, 324, 400, 484, 576, 676, 784, 900, 1024, 1156, 1296, 1444, 1600, 1764, 1936, 2116, 2304, 2500]\n"
     ]
    }
   ],
   "source": [
    "squares = []\n",
    "for number in range(1, 51):\n",
    "    if number % 2 == 0:\n",
    "        squares.append(number ** 2)\n",
    "print(\"Squares of even numbers between 1 and 50:\", squares)\n"
   ]
  },
  {
   "cell_type": "markdown",
   "id": "3742dd27-2a16-4f19-9c0a-d1ec823e507c",
   "metadata": {},
   "source": [
    " 15. Accept a list and return a new list with only unique \n",
    "elements (preserve order). "
   ]
  },
  {
   "cell_type": "code",
   "execution_count": 19,
   "id": "05a6bc96-fbbb-4605-964c-9f7debd2c306",
   "metadata": {},
   "outputs": [
    {
     "name": "stdin",
     "output_type": "stream",
     "text": [
      "Enter list elements separated by spaces:  1 5 7 9 5 4\n"
     ]
    },
    {
     "name": "stdout",
     "output_type": "stream",
     "text": [
      "List with unique elements: ['1', '5', '7', '9', '4']\n"
     ]
    }
   ],
   "source": [
    "input_list = input(\"Enter list elements separated by spaces: \").split()\n",
    "unique_list = []\n",
    "for item in input_list:\n",
    "    if item not in unique_list:\n",
    "        unique_list.append(item)\n",
    "print(\"List with unique elements:\", unique_list)"
   ]
  },
  {
   "cell_type": "markdown",
   "id": "ad487958-6977-4ad1-ba55-5afb80995177",
   "metadata": {},
   "source": [
    "�\n",
    "�\n",
    " Section B: Functions (Q16–Q30)"
   ]
  },
  {
   "cell_type": "markdown",
   "id": "427f530f-7658-45fd-8efd-0239681be34b",
   "metadata": {},
   "source": [
    "16. Write a function to check if a number is even or odd. \n"
   ]
  },
  {
   "cell_type": "code",
   "execution_count": 20,
   "id": "64378366-f007-4d71-b06b-10885f3a1b89",
   "metadata": {},
   "outputs": [
    {
     "name": "stdin",
     "output_type": "stream",
     "text": [
      "Enter a number:  12\n"
     ]
    },
    {
     "name": "stdout",
     "output_type": "stream",
     "text": [
      "The number is: Even\n"
     ]
    }
   ],
   "source": [
    "n = int(input(\"Enter a number: \"))\n",
    "\n",
    "def is_even_or_odd(n):\n",
    "    if n % 2 == 0:\n",
    "        return \"Even\"\n",
    "    else:\n",
    "        return \"Odd\"\n",
    "print(\"The number is:\", is_even_or_odd(n))"
   ]
  },
  {
   "cell_type": "markdown",
   "id": "5cb17b7d-318e-41fa-8287-313d7b9c9f2d",
   "metadata": {},
   "source": [
    " \n",
    "17. Create a function that takes a list of numbers and returns \n",
    "their cumulative sum. \n"
   ]
  },
  {
   "cell_type": "code",
   "execution_count": 21,
   "id": "12aa13bf-3143-4c0b-8cb6-5fda9c6a427b",
   "metadata": {},
   "outputs": [
    {
     "name": "stdin",
     "output_type": "stream",
     "text": [
      "Enter numbers separated by space:  1 5 4 45 56\n"
     ]
    },
    {
     "name": "stdout",
     "output_type": "stream",
     "text": [
      "Cumulative sum: [1, 6, 10, 55, 111]\n"
     ]
    }
   ],
   "source": [
    "lst = list(map(int, input(\"Enter numbers separated by space: \").split()))\n",
    "def cumulative_sum(lst):\n",
    "    total = 0\n",
    "    result = []\n",
    "    for num in lst:\n",
    "        total += num\n",
    "        result.append(total)\n",
    "    return result\n",
    "print(\"Cumulative sum:\", cumulative_sum(lst))"
   ]
  },
  {
   "cell_type": "markdown",
   "id": "af7bcd83-f842-4601-b47c-dd0a18ad6a73",
   "metadata": {},
   "source": [
    "\n",
    "18. Write a recursive function to find the factorial of a number. \n"
   ]
  },
  {
   "cell_type": "code",
   "execution_count": 22,
   "id": "7e82a183-6e6b-4039-b13d-2c9648293961",
   "metadata": {},
   "outputs": [
    {
     "name": "stdin",
     "output_type": "stream",
     "text": [
      "Enter a number:  54\n"
     ]
    },
    {
     "name": "stdout",
     "output_type": "stream",
     "text": [
      "Factorial: 230843697339241380472092742683027581083278564571807941132288000000000000\n"
     ]
    }
   ],
   "source": [
    "n = int(input(\"Enter a number: \"))\n",
    "\n",
    "def factorial(n):\n",
    "    if n == 0 or n == 1:\n",
    "        return 1\n",
    "    return n * factorial(n - 1)\n",
    "\n",
    "print(\"Factorial:\", factorial(n))"
   ]
  },
  {
   "cell_type": "markdown",
   "id": "a122c642-77e4-4f0f-9df2-6c36f587934e",
   "metadata": {},
   "source": [
    "\n",
    "19. Write a function to print the Fibonacci series up to n terms. "
   ]
  },
  {
   "cell_type": "code",
   "execution_count": 23,
   "id": "07acdc46-dfb3-46af-a951-b49761a25ccc",
   "metadata": {},
   "outputs": [
    {
     "name": "stdin",
     "output_type": "stream",
     "text": [
      "Enter number of terms:  12\n"
     ]
    },
    {
     "name": "stdout",
     "output_type": "stream",
     "text": [
      "0 1 1 2 3 5 8 13 21 34 55 89 "
     ]
    }
   ],
   "source": [
    "n = int(input(\"Enter number of terms: \"))\n",
    "\n",
    "def fibonacci_series(n, a=0, b=1, count=0):\n",
    "    if count < n:\n",
    "        print(a, end=\" \")\n",
    "        fibonacci_series(n, b, a + b, count + 1)\n",
    "\n",
    "fibonacci_series(n)"
   ]
  },
  {
   "cell_type": "markdown",
   "id": "129b386d-68ef-416f-ae86-db1550d420b3",
   "metadata": {},
   "source": [
    "\n",
    "20. Define a function that checks if a given string is a \n",
    "palindrome. "
   ]
  },
  {
   "cell_type": "code",
   "execution_count": 24,
   "id": "9fd6aaf6-7da2-4c5a-b3ec-c58c47396b54",
   "metadata": {},
   "outputs": [
    {
     "name": "stdin",
     "output_type": "stream",
     "text": [
      "Enter a string:  23ad\n"
     ]
    },
    {
     "name": "stdout",
     "output_type": "stream",
     "text": [
      "Palindrome: False\n"
     ]
    }
   ],
   "source": [
    "s = input(\"Enter a string: \")\n",
    "def is_palindrome(s):\n",
    "    return s == s[::-1]\n",
    "print(\"Palindrome:\", is_palindrome(s))"
   ]
  },
  {
   "cell_type": "markdown",
   "id": "9b21c0c7-10e0-4212-ac43-560eb9b7084c",
   "metadata": {},
   "source": [
    " 21. Create a function that returns the maximum and minimum \n",
    "elements from a list. "
   ]
  },
  {
   "cell_type": "code",
   "execution_count": 25,
   "id": "568bad39-34f1-4b2d-b5b6-f5b7134e6c88",
   "metadata": {},
   "outputs": [
    {
     "name": "stdin",
     "output_type": "stream",
     "text": [
      "Enter numbers separated by space:  12 2  1 1 1 \n"
     ]
    },
    {
     "name": "stdout",
     "output_type": "stream",
     "text": [
      "Minimum: 1\n",
      "Maximum: 12\n"
     ]
    }
   ],
   "source": [
    "lst = list(map(int, input(\"Enter numbers separated by space: \").split()))\n",
    "def find_min_max(lst):\n",
    "    return min(lst), max(lst)\n",
    "mn, mx = find_min_max(lst)\n",
    "print(\"Minimum:\", mn)\n",
    "print(\"Maximum:\", mx)"
   ]
  },
  {
   "cell_type": "markdown",
   "id": "111bba01-bac5-4cfc-a114-f935ce05f087",
   "metadata": {},
   "source": [
    "\n",
    "22. Write a function to check whether a string is a pangram. \n"
   ]
  },
  {
   "cell_type": "code",
   "execution_count": 26,
   "id": "9e3d3ea3-be2d-44b6-b4a2-2596d981c119",
   "metadata": {},
   "outputs": [
    {
     "name": "stdin",
     "output_type": "stream",
     "text": [
      "Enter a sentence:  12 \n"
     ]
    },
    {
     "name": "stdout",
     "output_type": "stream",
     "text": [
      "Pangram: False\n"
     ]
    }
   ],
   "source": [
    "import string\n",
    "s = input(\"Enter a sentence: \")\n",
    "def is_pangram(sentence):\n",
    "    alphabet = set(string.ascii_lowercase)\n",
    "    return alphabet.issubset(set(sentence.lower()))\n",
    "print(\"Pangram:\", is_pangram(s))"
   ]
  },
  {
   "cell_type": "markdown",
   "id": "6be02156-4980-433d-9710-13d8d00e6db5",
   "metadata": {},
   "source": [
    " \n",
    "23. Create a function that finds and returns all prime numbers \n",
    "in a given range. "
   ]
  },
  {
   "cell_type": "code",
   "execution_count": 27,
   "id": "5c3b789c-90d9-43e7-b080-132e4df6b706",
   "metadata": {},
   "outputs": [
    {
     "name": "stdin",
     "output_type": "stream",
     "text": [
      "Enter start of range:  12\n",
      "Enter end of range:  45\n"
     ]
    },
    {
     "name": "stdout",
     "output_type": "stream",
     "text": [
      "Prime numbers: [13, 17, 19, 23, 29, 31, 37, 41, 43]\n"
     ]
    }
   ],
   "source": [
    "start = int(input(\"Enter start of range: \"))\n",
    "end = int(input(\"Enter end of range: \"))\n",
    "def is_prime(n, i=2):\n",
    "    if n <= 1:\n",
    "        return False\n",
    "    if i * i > n:\n",
    "        return True\n",
    "    if n % i == 0:\n",
    "        return False\n",
    "    return is_prime(n, i + 1)\n",
    "def find_primes(start, end):\n",
    "    primes = []\n",
    "    for num in range(start, end + 1):\n",
    "        if is_prime(num):\n",
    "            primes.append(num)\n",
    "    return primes\n",
    "print(\"Prime numbers:\", find_primes(start, end))"
   ]
  },
  {
   "cell_type": "markdown",
   "id": "f32b195d-2121-45d0-bcb0-b27212490d3d",
   "metadata": {},
   "source": [
    " \n",
    "24. Write a function to return the number of uppercase and \n",
    "lowercase letters in a string. \n"
   ]
  },
  {
   "cell_type": "code",
   "execution_count": 28,
   "id": "62c16133-190b-41d3-b63b-8d72c518df9b",
   "metadata": {},
   "outputs": [
    {
     "name": "stdin",
     "output_type": "stream",
     "text": [
      "Enter a string:  12as\n"
     ]
    },
    {
     "name": "stdout",
     "output_type": "stream",
     "text": [
      "Uppercase letters: 0\n",
      "Lowercase letters: 2\n"
     ]
    }
   ],
   "source": [
    "s = input(\"Enter a string: \")\n",
    "def count_case(s):\n",
    "    upper = sum(1 for char in s if char.isupper())\n",
    "    lower = sum(1 for char in s if char.islower())\n",
    "    return upper, lower\n",
    "upper, lower = count_case(s)\n",
    "print(\"Uppercase letters:\", upper)\n",
    "print(\"Lowercase letters:\", lower)"
   ]
  },
  {
   "cell_type": "markdown",
   "id": "10518065-dba8-4a68-8022-d9affc348cbb",
   "metadata": {},
   "source": [
    " \n",
    "25. Write a function to compute the sum of digits of a number. \n"
   ]
  },
  {
   "cell_type": "code",
   "execution_count": 29,
   "id": "c7125669-7d54-4b90-a50a-14d510dfff4b",
   "metadata": {},
   "outputs": [
    {
     "name": "stdin",
     "output_type": "stream",
     "text": [
      "Enter a number:  45\n"
     ]
    },
    {
     "name": "stdout",
     "output_type": "stream",
     "text": [
      "Sum of digits: 9\n"
     ]
    }
   ],
   "source": [
    "n = int(input(\"Enter a number: \"))\n",
    "def sum_of_digits(n):\n",
    "    if n == 0:\n",
    "        return 0\n",
    "    return n % 10 + sum_of_digits(n // 10)\n",
    "print(\"Sum of digits:\", sum_of_digits(n))"
   ]
  },
  {
   "cell_type": "markdown",
   "id": "6955e438-60af-43d8-ba07-456882a25a1e",
   "metadata": {},
   "source": [
    "\n",
    "26. Write a function to count words in a sentence."
   ]
  },
  {
   "cell_type": "code",
   "execution_count": 30,
   "id": "7cd9284b-2319-4077-b2c9-defe5d9bb4f1",
   "metadata": {},
   "outputs": [
    {
     "name": "stdin",
     "output_type": "stream",
     "text": [
      "Enter a sentence:  45\n"
     ]
    },
    {
     "name": "stdout",
     "output_type": "stream",
     "text": [
      "Word count: 1\n"
     ]
    }
   ],
   "source": [
    "s = input(\"Enter a sentence: \")\n",
    "def word_count(s):\n",
    "    return len(s.split())\n",
    "print(\"Word count:\", word_count(s))"
   ]
  },
  {
   "cell_type": "markdown",
   "id": "0fe81d2e-71ad-4ae6-a5ee-453d3e8dcbd9",
   "metadata": {},
   "source": [
    "27. Create a function to remove all punctuation from a string. \n"
   ]
  },
  {
   "cell_type": "code",
   "execution_count": 31,
   "id": "bcce7d11-464f-43bb-a230-49f6b1345041",
   "metadata": {},
   "outputs": [
    {
     "name": "stdin",
     "output_type": "stream",
     "text": [
      "Enter a sentence:  g sudwjhwnir\n"
     ]
    },
    {
     "name": "stdout",
     "output_type": "stream",
     "text": [
      "Without punctuation: g sudwjhwnir\n"
     ]
    }
   ],
   "source": [
    "import string\n",
    "s = input(\"Enter a sentence: \")\n",
    "def remove_punctuation(text):\n",
    "    return ''.join(char for char in text if char not in string.punctuation)\n",
    "print(\"Without punctuation:\", remove_punctuation(s))"
   ]
  },
  {
   "cell_type": "markdown",
   "id": "150c55c8-9531-450e-abd2-49c13ec9899a",
   "metadata": {},
   "source": [
    "\n",
    "28. Create a function that finds the GCD (greatest common \n",
    "divisor) of two numbers. \n"
   ]
  },
  {
   "cell_type": "code",
   "execution_count": 32,
   "id": "4e4d4195-00c1-43ef-a009-96d9153b9c6b",
   "metadata": {},
   "outputs": [
    {
     "name": "stdin",
     "output_type": "stream",
     "text": [
      "Enter first number:  45\n",
      "Enter second number:  12\n"
     ]
    },
    {
     "name": "stdout",
     "output_type": "stream",
     "text": [
      "GCD: 3\n"
     ]
    }
   ],
   "source": [
    "a = int(input(\"Enter first number: \"))\n",
    "b = int(input(\"Enter second number: \"))\n",
    "def find_gcd(a, b):\n",
    "    if b == 0:\n",
    "        return a\n",
    "    return find_gcd(b, a % b)\n",
    "print(\"GCD:\", find_gcd(a, b))"
   ]
  },
  {
   "cell_type": "markdown",
   "id": "6627dd70-902d-4c4a-958a-bd89073b6344",
   "metadata": {},
   "source": [
    "\n",
    "29. Write a function that takes a list and returns only those \n",
    "elements that appear more than once. "
   ]
  },
  {
   "cell_type": "code",
   "execution_count": 33,
   "id": "2d560574-38b3-4bb7-ae20-1c332c5b510c",
   "metadata": {},
   "outputs": [
    {
     "name": "stdin",
     "output_type": "stream",
     "text": [
      "Enter list elements separated by space:  45\n"
     ]
    },
    {
     "name": "stdout",
     "output_type": "stream",
     "text": [
      "Duplicates: []\n"
     ]
    }
   ],
   "source": [
    "lst = list(map(int, input(\"Enter list elements separated by space: \").split()))\n",
    "def find_duplicates(lst):\n",
    "    seen = set()\n",
    "    duplicates = set()\n",
    "    for item in lst:\n",
    "        if item in seen:\n",
    "            duplicates.add(item)\n",
    "        else:\n",
    "            seen.add(item)\n",
    "    return list(duplicates)\n",
    "print(\"Duplicates:\", find_duplicates(lst))"
   ]
  },
  {
   "cell_type": "markdown",
   "id": "84cd7aff-53b1-4de5-b880-c259ebc40413",
   "metadata": {},
   "source": [
    "30. Create a function to return the largest of three numbers. "
   ]
  },
  {
   "cell_type": "code",
   "execution_count": 34,
   "id": "36be2e31-01b2-434a-b039-1bbbdd010876",
   "metadata": {},
   "outputs": [
    {
     "name": "stdin",
     "output_type": "stream",
     "text": [
      "Enter first number:  4\n",
      "Enter second number:  6\n",
      "Enter third number:  9\n"
     ]
    },
    {
     "name": "stdout",
     "output_type": "stream",
     "text": [
      "Largest: 9\n"
     ]
    }
   ],
   "source": [
    "a = int(input(\"Enter first number: \"))\n",
    "b = int(input(\"Enter second number: \"))\n",
    "c = int(input(\"Enter third number: \"))\n",
    "def find_largest(a, b, c):\n",
    "    return max(a, b, c)\n",
    "print(\"Largest:\", find_largest(a, b, c))"
   ]
  },
  {
   "cell_type": "markdown",
   "id": "49b4f6f5-926a-43ec-a269-1a90cb260c7b",
   "metadata": {},
   "source": [
    "�\n",
    "�\n",
    " Section C: String, List, Dictionary & Tuple Operations (Q31–Q40)"
   ]
  },
  {
   "cell_type": "markdown",
   "id": "38d61eeb-fe43-4b6c-b1d1-142257d0b881",
   "metadata": {},
   "source": [
    "31. Write a program to sort words in a sentence \n",
    "alphabetically."
   ]
  },
  {
   "cell_type": "code",
   "execution_count": 35,
   "id": "4d04e21b-36f9-4de7-b55f-9b6143d3ba2a",
   "metadata": {},
   "outputs": [
    {
     "name": "stdin",
     "output_type": "stream",
     "text": [
      "Enter a sentence:  i am a good boy\n"
     ]
    },
    {
     "name": "stdout",
     "output_type": "stream",
     "text": [
      "Sorted words: ['a', 'am', 'boy', 'good', 'i']\n"
     ]
    }
   ],
   "source": [
    "sentence = input(\"Enter a sentence: \")\n",
    "words = sentence.split()\n",
    "words.sort()\n",
    "print(\"Sorted words:\", words)"
   ]
  },
  {
   "cell_type": "markdown",
   "id": "8db62713-f547-4e15-bbc0-2e0c7e471d27",
   "metadata": {},
   "source": [
    "32. Concatenate two dictionaries and print the result."
   ]
  },
  {
   "cell_type": "code",
   "execution_count": 39,
   "id": "bda6563b-9eaa-4c7e-8821-d68e7b2a7ebb",
   "metadata": {},
   "outputs": [
    {
     "name": "stdin",
     "output_type": "stream",
     "text": [
      "Enter first dictionary:   {'a': 2, 'b': 5}\n",
      "Enter second dictionary:   {'c':3, 'd':4}\n"
     ]
    },
    {
     "name": "stdout",
     "output_type": "stream",
     "text": [
      "Merged dictionary: {'a': 2, 'b': 5, 'c': 3, 'd': 4}\n"
     ]
    }
   ],
   "source": [
    "dict1 = eval(input(\"Enter first dictionary: \"))\n",
    "dict2 = eval(input(\"Enter second dictionary: \"))\n",
    "dict1.update(dict2)\n",
    "print(\"Merged dictionary:\", dict1)"
   ]
  },
  {
   "cell_type": "markdown",
   "id": "0149c09b-bbb1-446a-9fbf-4101bfee29f6",
   "metadata": {},
   "source": [
    "33. Count how many vowels are present in each word of a \n",
    "sentence. "
   ]
  },
  {
   "cell_type": "code",
   "execution_count": 40,
   "id": "d87e0640-7220-4960-8270-4bdf80afb8da",
   "metadata": {},
   "outputs": [
    {
     "name": "stdin",
     "output_type": "stream",
     "text": [
      "Enter a sentence:   i asn kcn\n"
     ]
    },
    {
     "name": "stdout",
     "output_type": "stream",
     "text": [
      "Vowel counts: {'i': 1, 'asn': 1, 'kcn': 0}\n"
     ]
    }
   ],
   "source": [
    "sentence = input(\"Enter a sentence: \")\n",
    "vowels = \"aeiouAEIOU\"\n",
    "result = {}\n",
    "for word in sentence.split():\n",
    "    count = 0\n",
    "    for char in word:\n",
    "        if char in vowels:\n",
    "            count += 1\n",
    "    result[word] = count\n",
    "print(\"Vowel counts:\", result)"
   ]
  },
  {
   "cell_type": "markdown",
   "id": "5c0dee81-2ed0-455a-b865-c27c7770ac6f",
   "metadata": {},
   "source": [
    "34. Accept a tuple and convert it into a list. "
   ]
  },
  {
   "cell_type": "code",
   "execution_count": 42,
   "id": "c60616e0-9bb3-43af-a304-e5bdc765b4a6",
   "metadata": {},
   "outputs": [
    {
     "name": "stdin",
     "output_type": "stream",
     "text": [
      "Enter a tuple:  (1,2,3)\n"
     ]
    },
    {
     "name": "stdout",
     "output_type": "stream",
     "text": [
      "Converted list: [1, 2, 3]\n"
     ]
    }
   ],
   "source": [
    "tpl = eval(input(\"Enter a tuple: \"))\n",
    "lst = list(tpl)\n",
    "print(\"Converted list:\", lst)"
   ]
  },
  {
   "cell_type": "markdown",
   "id": "22c9a343-7516-4e49-8422-ba5336de80b0",
   "metadata": {},
   "source": [
    "35. Remove all whitespace from a given string using a \n",
    "function."
   ]
  },
  {
   "cell_type": "code",
   "execution_count": 43,
   "id": "4684e804-247c-41c6-93d0-906106a22952",
   "metadata": {},
   "outputs": [
    {
     "name": "stdin",
     "output_type": "stream",
     "text": [
      "Enter a string:  a s gb gb bg\n"
     ]
    },
    {
     "name": "stdout",
     "output_type": "stream",
     "text": [
      "Without whitespace: asgbgbbg\n"
     ]
    }
   ],
   "source": [
    "s = input(\"Enter a string: \")\n",
    "s = s.replace(\" \", \"\")\n",
    "print(\"Without whitespace:\", s)"
   ]
  },
  {
   "cell_type": "markdown",
   "id": "314c2a18-d958-4660-9aab-230363729380",
   "metadata": {},
   "source": [
    "36. Merge two lists into a dictionary using one as keys and the \n",
    "other as values."
   ]
  },
  {
   "cell_type": "code",
   "execution_count": 44,
   "id": "2a0b7532-29bb-48be-bb2d-f68682780176",
   "metadata": {},
   "outputs": [
    {
     "name": "stdin",
     "output_type": "stream",
     "text": [
      "Enter keys separated by space:  na boy girl\n",
      "Enter values separated by space:  54 y67 6778 \n"
     ]
    },
    {
     "name": "stdout",
     "output_type": "stream",
     "text": [
      "Merged dictionary: {'na': '54', 'boy': 'y67', 'girl': '6778'}\n"
     ]
    }
   ],
   "source": [
    "keys = input(\"Enter keys separated by space: \").split()\n",
    "values = input(\"Enter values separated by space: \").split()\n",
    "d = dict(zip(keys, values))\n",
    "print(\"Merged dictionary:\", d)"
   ]
  },
  {
   "cell_type": "markdown",
   "id": "e179d0aa-85ee-428f-a267-a906be1b019a",
   "metadata": {},
   "source": [
    "37. Write a program to get the key with the maximum value in \n",
    "a dictionary."
   ]
  },
  {
   "cell_type": "code",
   "execution_count": 47,
   "id": "6f97ad7a-f210-47a9-a927-e202d9b06d6d",
   "metadata": {},
   "outputs": [
    {
     "name": "stdin",
     "output_type": "stream",
     "text": [
      "Enter a dictionary:  {'a': 10, 'b': 50, 'c': 30}\n"
     ]
    },
    {
     "name": "stdout",
     "output_type": "stream",
     "text": [
      "Key with max value: b\n"
     ]
    }
   ],
   "source": [
    "d = eval(input(\"Enter a dictionary: \"))\n",
    "max_key = max(d, key=d.get)\n",
    "print(\"Key with max value:\", max_key)"
   ]
  },
  {
   "cell_type": "markdown",
   "id": "7e6ef9af-e233-4da3-805c-86befab691e3",
   "metadata": {},
   "source": [
    "38. Accept a string and print a dictionary with word \n",
    "frequencies. "
   ]
  },
  {
   "cell_type": "code",
   "execution_count": 48,
   "id": "0065528a-70e3-43b0-bf3d-209b8ccbcb7d",
   "metadata": {},
   "outputs": [
    {
     "name": "stdin",
     "output_type": "stream",
     "text": [
      "Enter a sentence:  b is to a\n"
     ]
    },
    {
     "name": "stdout",
     "output_type": "stream",
     "text": [
      "Word frequencies: {'b': 1, 'is': 1, 'to': 1, 'a': 1}\n"
     ]
    }
   ],
   "source": [
    "sentence = input(\"Enter a sentence: \")\n",
    "words = sentence.split()\n",
    "freq = {}\n",
    "for word in words:\n",
    "    freq[word] = freq.get(word, 0) + 1\n",
    "print(\"Word frequencies:\", freq)"
   ]
  },
  {
   "cell_type": "markdown",
   "id": "557a6740-05d3-43c6-9aa8-c3eaf0e1b3e4",
   "metadata": {},
   "source": [
    "39. Write a program to check if a key exists in a dictionary."
   ]
  },
  {
   "cell_type": "code",
   "execution_count": 49,
   "id": "a22772ef-ee46-4022-8422-ab094b973c45",
   "metadata": {},
   "outputs": [
    {
     "name": "stdin",
     "output_type": "stream",
     "text": [
      "Enter a dictionary:  {'x': 10, 'y': 20}\n",
      "Enter key to check:  x\n"
     ]
    },
    {
     "name": "stdout",
     "output_type": "stream",
     "text": [
      "Key exists\n"
     ]
    }
   ],
   "source": [
    "d = eval(input(\"Enter a dictionary: \"))\n",
    "k = input(\"Enter key to check: \")\n",
    "if k in d:\n",
    "    print(\"Key exists\")\n",
    "else:\n",
    "    print(\"Key does not exist\")"
   ]
  },
  {
   "cell_type": "markdown",
   "id": "d5c7d2a1-bd35-423c-b58e-fd2d4871b3b0",
   "metadata": {},
   "source": [
    "40. Write a program to replace all the vowels in a string with \n",
    "'*'. "
   ]
  },
  {
   "cell_type": "code",
   "execution_count": 50,
   "id": "2eb361fc-704e-42ff-ae1d-bab701944142",
   "metadata": {},
   "outputs": [
    {
     "name": "stdin",
     "output_type": "stream",
     "text": [
      "Enter a string:  i am good boy\n"
     ]
    },
    {
     "name": "stdout",
     "output_type": "stream",
     "text": [
      "Replaced string: * *m g**d b*y\n"
     ]
    }
   ],
   "source": [
    "s = input(\"Enter a string: \")\n",
    "vowels = \"aeiouAEIOU\"\n",
    "result = \"\"\n",
    "for ch in s:\n",
    "    if ch in vowels:\n",
    "        result += \"*\"\n",
    "    else:\n",
    "        result += ch\n",
    "print(\"Replaced string:\", result)"
   ]
  },
  {
   "cell_type": "markdown",
   "id": "6f4b6774-499f-4aaf-a5c1-5c2aebff7809",
   "metadata": {},
   "source": [
    "�\n",
    "�\n",
    " Section D: File Handling (Q41–Q45) "
   ]
  },
  {
   "cell_type": "markdown",
   "id": "cb53b512-f9bb-4113-9fa5-2de5bb8df7cd",
   "metadata": {},
   "source": [
    "41. Write a Python program to read the contents of a file and \n",
    "display it."
   ]
  },
  {
   "cell_type": "code",
   "execution_count": null,
   "id": "97c7a1ec-23e8-4de3-b0d2-303254537f48",
   "metadata": {},
   "outputs": [],
   "source": [
    "filename = input(\"Enter filename to read: \")\n",
    "f = open(filename, \"r\")\n",
    "content = f.read()\n",
    "print(\"File content given below:\\n\", content)\n",
    "f.close()"
   ]
  },
  {
   "cell_type": "markdown",
   "id": "5d893427-7251-479a-947f-e791ee6db5b5",
   "metadata": {},
   "source": [
    "42. Count the number of words in a file."
   ]
  },
  {
   "cell_type": "code",
   "execution_count": null,
   "id": "02f57920-24e7-4e10-b8f2-7513f21081ea",
   "metadata": {},
   "outputs": [],
   "source": [
    "filename = input(\"Enter filename: \")\n",
    "f = open(filename, \"r\")\n",
    "text = f.read()\n",
    "words = text.split()\n",
    "print(\"Number of words:\", len(words))\n",
    "f.close()"
   ]
  },
  {
   "cell_type": "markdown",
   "id": "f7194283-456b-4cc4-88b8-046909f7fe40",
   "metadata": {},
   "source": [
    "43. Copy contents of one file to another. "
   ]
  },
  {
   "cell_type": "code",
   "execution_count": null,
   "id": "28dcc21a-69d9-4b26-9998-f127b73ca2b3",
   "metadata": {},
   "outputs": [],
   "source": [
    "source = input(\"Enter source filename: \")\n",
    "target = input(\"Enter target filename: \")\n",
    "f1 = open(source, \"r\")\n",
    "f2 = open(target, \"w\")\n",
    "content = f1.read()\n",
    "f2.write(content)\n",
    "print(\"File copied successfully.\")\n",
    "f1.close()\n",
    "f2.close()"
   ]
  },
  {
   "cell_type": "markdown",
   "id": "76fcd40b-9289-43bd-93a6-940c25ff41f0",
   "metadata": {},
   "source": [
    "44. Print only the lines that have more than 50 characters \n",
    "from a text file."
   ]
  },
  {
   "cell_type": "code",
   "execution_count": null,
   "id": "c9c5fa92-b241-412d-91d8-562dd17ca7e1",
   "metadata": {},
   "outputs": [],
   "source": [
    "filename = input(\"Enter filename: \")\n",
    "f = open(filename, \"r\")\n",
    "\n",
    "print(\"Lines longer than 50 characters:\")\n",
    "for line in f:\n",
    "    if len(line.strip()) > 50:\n",
    "        print(line.strip())\n",
    "f.close()"
   ]
  },
  {
   "cell_type": "markdown",
   "id": "8e20ea01-744d-402d-a4ca-96ecd57ce49b",
   "metadata": {},
   "source": [
    "45. Write a program to write a list of strings into a text file (one \n",
    "string per line). \n"
   ]
  },
  {
   "cell_type": "code",
   "execution_count": null,
   "id": "56560606-659a-4779-b199-4a1747b76f11",
   "metadata": {},
   "outputs": [],
   "source": [
    "filename = input(\"Enter filename to write to: \")\n",
    "n = int(input(\"Enter number of lines: \"))\n",
    "\n",
    "f = open(filename, \"w\")\n",
    "for i in range(n):\n",
    "    line = input(f\"Enter line {i+1}: \")\n",
    "    f.write(line + \"\\n\")\n",
    "f.close()\n",
    "print(\"Lines written successfully.\")"
   ]
  },
  {
   "cell_type": "markdown",
   "id": "320d6612-dd4b-4c57-ba47-9f25ae913f0e",
   "metadata": {},
   "source": [
    "⚠\n",
    " Section E: Exception Handling (Q46–Q50) "
   ]
  },
  {
   "cell_type": "markdown",
   "id": "3f0dfa76-fc8a-4141-b024-ec3b000263d5",
   "metadata": {},
   "source": [
    "46. Write a program to take two numbers as input and handle \n",
    "division by zero. \n"
   ]
  },
  {
   "cell_type": "code",
   "execution_count": null,
   "id": "c6a64711-b0ad-439e-9a31-7ba1be132263",
   "metadata": {},
   "outputs": [],
   "source": [
    "a = int(input(\"Enter numerator: \"))\n",
    "b = int(input(\"Enter denominator: \"))\n",
    "\n",
    "try:\n",
    "    result = a / b\n",
    "    print(\"Result:\", result)\n",
    "except ZeroDivisionError:\n",
    "    print(\"Error: Cannot divide by zero.\")"
   ]
  },
  {
   "cell_type": "markdown",
   "id": "17c2e238-9bf5-4251-bde9-2d0531749c3f",
   "metadata": {},
   "source": [
    " \n",
    "47. Handle invalid user input (e.g., entering a string when a \n",
    "number is expected). \n"
   ]
  },
  {
   "cell_type": "code",
   "execution_count": null,
   "id": "212f236c-104b-4ff9-931e-246f10e58ed9",
   "metadata": {},
   "outputs": [],
   "source": [
    "try:\n",
    "    num = int(input(\"Enter a number: \"))\n",
    "    print(\"You entered:\", num)\n",
    "except ValueError:\n",
    "    print(\"Invalid input! Please enter a valid number.\")"
   ]
  },
  {
   "cell_type": "markdown",
   "id": "b714a63c-2fa8-4a6b-a705-7e220e01a172",
   "metadata": {},
   "source": [
    "\n",
    "48. Try to open a file that doesn’t exist and handle the \n",
    "FileNotFoundError. \n"
   ]
  },
  {
   "cell_type": "code",
   "execution_count": null,
   "id": "874338f8-4c43-4861-a5e6-de3dc98a24cd",
   "metadata": {},
   "outputs": [],
   "source": [
    "filename = input(\"Enter filename: \")\n",
    "try:\n",
    "    f = open(filename, \"r\")\n",
    "    print(f.read())\n",
    "    f.close()\n",
    "except FileNotFoundError:\n",
    "    print(\"Error: File not found.\")"
   ]
  },
  {
   "cell_type": "markdown",
   "id": "e8179834-b9a2-4127-ac87-02df6613e968",
   "metadata": {},
   "source": [
    "\n",
    "49. Create a list of numbers and try accessing an invalid \n",
    "index. Handle the exception gracefully. \n"
   ]
  },
  {
   "cell_type": "code",
   "execution_count": null,
   "id": "51b9a4aa-67e3-4dbf-bb2f-ff19f8b54bdd",
   "metadata": {},
   "outputs": [],
   "source": [
    "numbers = [10, 20, 30, 40, 50]\n",
    "\n",
    "try:\n",
    "    index = int(input(\"Enter index to access: \"))\n",
    "    print(\"Value:\", numbers[index])\n",
    "except IndexError:\n",
    "    print(\"Error: Index out of range.\")"
   ]
  },
  {
   "cell_type": "markdown",
   "id": "f79f0fdf-a97c-480e-846b-241618103420",
   "metadata": {},
   "source": [
    " \n",
    "50. Use a try-except-finally block to demonstrate the \n",
    "execution of the finally clause."
   ]
  },
  {
   "cell_type": "code",
   "execution_count": null,
   "id": "dbe987a0-6e38-4a5c-878d-a84f49d57880",
   "metadata": {},
   "outputs": [],
   "source": [
    "try:\n",
    "    x = int(input(\"Enter a number: \"))\n",
    "    y = int(input(\"Enter another number: \"))\n",
    "    print(\"Result:\", x / y)\n",
    "except ZeroDivisionError:\n",
    "    print(\"Error: Division by zero.\")\n",
    "finally:\n",
    "    print(\"This will always execute (finally block).\")"
   ]
  }
 ],
 "metadata": {
  "kernelspec": {
   "display_name": "Python 3 (ipykernel)",
   "language": "python",
   "name": "python3"
  },
  "language_info": {
   "codemirror_mode": {
    "name": "ipython",
    "version": 3
   },
   "file_extension": ".py",
   "mimetype": "text/x-python",
   "name": "python",
   "nbconvert_exporter": "python",
   "pygments_lexer": "ipython3",
   "version": "3.12.7"
  }
 },
 "nbformat": 4,
 "nbformat_minor": 5
}
