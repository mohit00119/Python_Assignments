{
 "cells": [
  {
   "cell_type": "code",
   "execution_count": null,
   "id": "0caa253a-9461-4d65-9c9e-dd472af4b8c3",
   "metadata": {},
   "outputs": [],
   "source": []
  }
 ],
 "metadata": {
  "kernelspec": {
   "display_name": "",
   "name": ""
  },
  "language_info": {
   "name": ""
  }
 },
 "nbformat": 4,
 "nbformat_minor": 5
}
